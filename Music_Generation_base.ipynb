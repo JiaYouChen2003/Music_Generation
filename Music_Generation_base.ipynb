{
 "cells": [
  {
   "cell_type": "code",
   "execution_count": 1,
   "metadata": {
    "scrolled": false
   },
   "outputs": [
    {
     "data": {
      "text/plain": [
       "['/home/apple/GeoLife/Music_Generation',\n",
       " '/home/apple/anaconda3/lib/python38.zip',\n",
       " '/home/apple/anaconda3/lib/python3.8',\n",
       " '/home/apple/anaconda3/lib/python3.8/lib-dynload',\n",
       " '',\n",
       " '/home/apple/anaconda3/lib/python3.8/site-packages',\n",
       " '/home/apple/anaconda3/lib/python3.8/site-packages/pyaml-21.10.1-py3.8.egg',\n",
       " '/home/apple/anaconda3/lib/python3.8/site-packages/IPython/extensions',\n",
       " '/home/apple/.ipython',\n",
       " '/home/apple/anaconda3/envs/GeoLife/lib/python3.8/site-packages/']"
      ]
     },
     "execution_count": 1,
     "metadata": {},
     "output_type": "execute_result"
    }
   ],
   "source": [
    "import sys\n",
    "sys.path.append('/home/apple/anaconda3/envs/GeoLife/lib/python3.8/site-packages/')\n",
    "sys.path"
   ]
  },
  {
   "cell_type": "code",
   "execution_count": 2,
   "metadata": {},
   "outputs": [],
   "source": [
    "from midi_dataloader_v1 import MIDI_dataset_v1\n",
    "import torch\n",
    "import torchvision\n",
    "import torchvision.transforms as transforms\n",
    "from torch.utils.data import DataLoader\n",
    "import torch.nn as nn\n",
    "from collections import OrderedDict\n",
    "from torchsummary import summary"
   ]
  },
  {
   "cell_type": "code",
   "execution_count": 3,
   "metadata": {},
   "outputs": [],
   "source": [
    "TRAIN_PATH = './trainset'\n",
    "VAL_PATH = './valset'\n",
    "TEST_PATH = './testset'\n",
    "BATCH = 1\n",
    "WORKER = 20"
   ]
  },
  {
   "cell_type": "code",
   "execution_count": 4,
   "metadata": {
    "scrolled": true
   },
   "outputs": [],
   "source": [
    "train_dataset = MIDI_dataset_v1(TRAIN_PATH)\n",
    "val_dataset = MIDI_dataset_v1(VAL_PATH)\n",
    "test_dataset = MIDI_dataset_v1(TEST_PATH)"
   ]
  },
  {
   "cell_type": "code",
   "execution_count": 5,
   "metadata": {
    "scrolled": true
   },
   "outputs": [],
   "source": [
    "trainloader = DataLoader(train_dataset,batch_size=BATCH,shuffle=True,num_workers=WORKER)\n",
    "valloader = DataLoader(val_dataset,batch_size=BATCH,num_workers=WORKER)\n",
    "testloader = DataLoader(test_dataset,batch_size=BATCH,num_workers=WORKER)"
   ]
  },
  {
   "cell_type": "code",
   "execution_count": 6,
   "metadata": {
    "scrolled": true
   },
   "outputs": [
    {
     "ename": "FileNotFoundError",
     "evalue": "Caught FileNotFoundError in DataLoader worker process 0.\nOriginal Traceback (most recent call last):\n  File \"/home/apple/anaconda3/envs/GeoLife/lib/python3.8/site-packages/torch/utils/data/_utils/worker.py\", line 302, in _worker_loop\n    data = fetcher.fetch(index)\n  File \"/home/apple/anaconda3/envs/GeoLife/lib/python3.8/site-packages/torch/utils/data/_utils/fetch.py\", line 58, in fetch\n    data = [self.dataset[idx] for idx in possibly_batched_index]\n  File \"/home/apple/anaconda3/envs/GeoLife/lib/python3.8/site-packages/torch/utils/data/_utils/fetch.py\", line 58, in <listcomp>\n    data = [self.dataset[idx] for idx in possibly_batched_index]\n  File \"/home/apple/GeoLife/Music_Generation/midi_dataloader_v1.py\", line 76, in __getitem__\n    mid = MidiFile(self.file_list[idx])\n  File \"/home/apple/anaconda3/lib/python3.8/site-packages/mido/midifiles/midifiles.py\", line 315, in __init__\n    with io.open(filename, 'rb') as file:\nFileNotFoundError: [Errno 2] No such file or directory: 'r'\n",
     "output_type": "error",
     "traceback": [
      "\u001b[0;31m---------------------------------------------------------------------------\u001b[0m",
      "\u001b[0;31mFileNotFoundError\u001b[0m                         Traceback (most recent call last)",
      "\u001b[0;32m<ipython-input-6-05a740f53c97>\u001b[0m in \u001b[0;36m<module>\u001b[0;34m\u001b[0m\n\u001b[0;32m----> 1\u001b[0;31m \u001b[0minputs\u001b[0m \u001b[0;34m=\u001b[0m \u001b[0mnext\u001b[0m\u001b[0;34m(\u001b[0m\u001b[0miter\u001b[0m\u001b[0;34m(\u001b[0m\u001b[0mtrainloader\u001b[0m\u001b[0;34m)\u001b[0m\u001b[0;34m)\u001b[0m\u001b[0;34m\u001b[0m\u001b[0;34m\u001b[0m\u001b[0m\n\u001b[0m\u001b[1;32m      2\u001b[0m \u001b[0mprint\u001b[0m\u001b[0;34m(\u001b[0m\u001b[0minputs\u001b[0m\u001b[0;34m.\u001b[0m\u001b[0mshape\u001b[0m\u001b[0;34m)\u001b[0m\u001b[0;34m\u001b[0m\u001b[0;34m\u001b[0m\u001b[0m\n",
      "\u001b[0;32m~/anaconda3/envs/GeoLife/lib/python3.8/site-packages/torch/utils/data/dataloader.py\u001b[0m in \u001b[0;36m__next__\u001b[0;34m(self)\u001b[0m\n\u001b[1;32m    626\u001b[0m                 \u001b[0;31m# TODO(https://github.com/pytorch/pytorch/issues/76750)\u001b[0m\u001b[0;34m\u001b[0m\u001b[0;34m\u001b[0m\u001b[0;34m\u001b[0m\u001b[0m\n\u001b[1;32m    627\u001b[0m                 \u001b[0mself\u001b[0m\u001b[0;34m.\u001b[0m\u001b[0m_reset\u001b[0m\u001b[0;34m(\u001b[0m\u001b[0;34m)\u001b[0m  \u001b[0;31m# type: ignore[call-arg]\u001b[0m\u001b[0;34m\u001b[0m\u001b[0;34m\u001b[0m\u001b[0m\n\u001b[0;32m--> 628\u001b[0;31m             \u001b[0mdata\u001b[0m \u001b[0;34m=\u001b[0m \u001b[0mself\u001b[0m\u001b[0;34m.\u001b[0m\u001b[0m_next_data\u001b[0m\u001b[0;34m(\u001b[0m\u001b[0;34m)\u001b[0m\u001b[0;34m\u001b[0m\u001b[0;34m\u001b[0m\u001b[0m\n\u001b[0m\u001b[1;32m    629\u001b[0m             \u001b[0mself\u001b[0m\u001b[0;34m.\u001b[0m\u001b[0m_num_yielded\u001b[0m \u001b[0;34m+=\u001b[0m \u001b[0;36m1\u001b[0m\u001b[0;34m\u001b[0m\u001b[0;34m\u001b[0m\u001b[0m\n\u001b[1;32m    630\u001b[0m             \u001b[0;32mif\u001b[0m \u001b[0mself\u001b[0m\u001b[0;34m.\u001b[0m\u001b[0m_dataset_kind\u001b[0m \u001b[0;34m==\u001b[0m \u001b[0m_DatasetKind\u001b[0m\u001b[0;34m.\u001b[0m\u001b[0mIterable\u001b[0m \u001b[0;32mand\u001b[0m\u001b[0;31m \u001b[0m\u001b[0;31m\\\u001b[0m\u001b[0;34m\u001b[0m\u001b[0;34m\u001b[0m\u001b[0m\n",
      "\u001b[0;32m~/anaconda3/envs/GeoLife/lib/python3.8/site-packages/torch/utils/data/dataloader.py\u001b[0m in \u001b[0;36m_next_data\u001b[0;34m(self)\u001b[0m\n\u001b[1;32m   1331\u001b[0m             \u001b[0;32melse\u001b[0m\u001b[0;34m:\u001b[0m\u001b[0;34m\u001b[0m\u001b[0;34m\u001b[0m\u001b[0m\n\u001b[1;32m   1332\u001b[0m                 \u001b[0;32mdel\u001b[0m \u001b[0mself\u001b[0m\u001b[0;34m.\u001b[0m\u001b[0m_task_info\u001b[0m\u001b[0;34m[\u001b[0m\u001b[0midx\u001b[0m\u001b[0;34m]\u001b[0m\u001b[0;34m\u001b[0m\u001b[0;34m\u001b[0m\u001b[0m\n\u001b[0;32m-> 1333\u001b[0;31m                 \u001b[0;32mreturn\u001b[0m \u001b[0mself\u001b[0m\u001b[0;34m.\u001b[0m\u001b[0m_process_data\u001b[0m\u001b[0;34m(\u001b[0m\u001b[0mdata\u001b[0m\u001b[0;34m)\u001b[0m\u001b[0;34m\u001b[0m\u001b[0;34m\u001b[0m\u001b[0m\n\u001b[0m\u001b[1;32m   1334\u001b[0m \u001b[0;34m\u001b[0m\u001b[0m\n\u001b[1;32m   1335\u001b[0m     \u001b[0;32mdef\u001b[0m \u001b[0m_try_put_index\u001b[0m\u001b[0;34m(\u001b[0m\u001b[0mself\u001b[0m\u001b[0;34m)\u001b[0m\u001b[0;34m:\u001b[0m\u001b[0;34m\u001b[0m\u001b[0;34m\u001b[0m\u001b[0m\n",
      "\u001b[0;32m~/anaconda3/envs/GeoLife/lib/python3.8/site-packages/torch/utils/data/dataloader.py\u001b[0m in \u001b[0;36m_process_data\u001b[0;34m(self, data)\u001b[0m\n\u001b[1;32m   1357\u001b[0m         \u001b[0mself\u001b[0m\u001b[0;34m.\u001b[0m\u001b[0m_try_put_index\u001b[0m\u001b[0;34m(\u001b[0m\u001b[0;34m)\u001b[0m\u001b[0;34m\u001b[0m\u001b[0;34m\u001b[0m\u001b[0m\n\u001b[1;32m   1358\u001b[0m         \u001b[0;32mif\u001b[0m \u001b[0misinstance\u001b[0m\u001b[0;34m(\u001b[0m\u001b[0mdata\u001b[0m\u001b[0;34m,\u001b[0m \u001b[0mExceptionWrapper\u001b[0m\u001b[0;34m)\u001b[0m\u001b[0;34m:\u001b[0m\u001b[0;34m\u001b[0m\u001b[0;34m\u001b[0m\u001b[0m\n\u001b[0;32m-> 1359\u001b[0;31m             \u001b[0mdata\u001b[0m\u001b[0;34m.\u001b[0m\u001b[0mreraise\u001b[0m\u001b[0;34m(\u001b[0m\u001b[0;34m)\u001b[0m\u001b[0;34m\u001b[0m\u001b[0;34m\u001b[0m\u001b[0m\n\u001b[0m\u001b[1;32m   1360\u001b[0m         \u001b[0;32mreturn\u001b[0m \u001b[0mdata\u001b[0m\u001b[0;34m\u001b[0m\u001b[0;34m\u001b[0m\u001b[0m\n\u001b[1;32m   1361\u001b[0m \u001b[0;34m\u001b[0m\u001b[0m\n",
      "\u001b[0;32m~/anaconda3/envs/GeoLife/lib/python3.8/site-packages/torch/_utils.py\u001b[0m in \u001b[0;36mreraise\u001b[0;34m(self)\u001b[0m\n\u001b[1;32m    541\u001b[0m             \u001b[0;31m# instantiate since we don't know how to\u001b[0m\u001b[0;34m\u001b[0m\u001b[0;34m\u001b[0m\u001b[0;34m\u001b[0m\u001b[0m\n\u001b[1;32m    542\u001b[0m             \u001b[0;32mraise\u001b[0m \u001b[0mRuntimeError\u001b[0m\u001b[0;34m(\u001b[0m\u001b[0mmsg\u001b[0m\u001b[0;34m)\u001b[0m \u001b[0;32mfrom\u001b[0m \u001b[0;32mNone\u001b[0m\u001b[0;34m\u001b[0m\u001b[0;34m\u001b[0m\u001b[0m\n\u001b[0;32m--> 543\u001b[0;31m         \u001b[0;32mraise\u001b[0m \u001b[0mexception\u001b[0m\u001b[0;34m\u001b[0m\u001b[0;34m\u001b[0m\u001b[0m\n\u001b[0m\u001b[1;32m    544\u001b[0m \u001b[0;34m\u001b[0m\u001b[0m\n\u001b[1;32m    545\u001b[0m \u001b[0;34m\u001b[0m\u001b[0m\n",
      "\u001b[0;31mFileNotFoundError\u001b[0m: Caught FileNotFoundError in DataLoader worker process 0.\nOriginal Traceback (most recent call last):\n  File \"/home/apple/anaconda3/envs/GeoLife/lib/python3.8/site-packages/torch/utils/data/_utils/worker.py\", line 302, in _worker_loop\n    data = fetcher.fetch(index)\n  File \"/home/apple/anaconda3/envs/GeoLife/lib/python3.8/site-packages/torch/utils/data/_utils/fetch.py\", line 58, in fetch\n    data = [self.dataset[idx] for idx in possibly_batched_index]\n  File \"/home/apple/anaconda3/envs/GeoLife/lib/python3.8/site-packages/torch/utils/data/_utils/fetch.py\", line 58, in <listcomp>\n    data = [self.dataset[idx] for idx in possibly_batched_index]\n  File \"/home/apple/GeoLife/Music_Generation/midi_dataloader_v1.py\", line 76, in __getitem__\n    mid = MidiFile(self.file_list[idx])\n  File \"/home/apple/anaconda3/lib/python3.8/site-packages/mido/midifiles/midifiles.py\", line 315, in __init__\n    with io.open(filename, 'rb') as file:\nFileNotFoundError: [Errno 2] No such file or directory: 'r'\n"
     ]
    }
   ],
   "source": [
    "inputs = next(iter(trainloader))\n",
    "print(inputs.shape)"
   ]
  },
  {
   "cell_type": "code",
   "execution_count": 7,
   "metadata": {},
   "outputs": [],
   "source": [
    "class CRNN(nn.modules.Module):\n",
    "    def __init__(self):\n",
    "        super(CRNN,self).__init__()\n",
    "        \n",
    "        # N Freq Time Channel\n",
    "        self.freqpad = nn.ZeroPad2d((0, 0, 37, 37))\n",
    "        self.bn0freq = nn.BatchNorm2d(num_features=96)\n",
    "        \n",
    "        # N Channel Freq Time\n",
    "        self.cnn = nn.Sequential(OrderedDict([\n",
    "          ('conv1', nn.Conv2d(1, 64, kernel_size=(3, 3), padding=(1, 1), bias=False)),\n",
    "          ('bn1', nn.BatchNorm2d(num_features=64)),\n",
    "          ('elu1', nn.ELU()),\n",
    "          ('pool1', nn.MaxPool2d(kernel_size=(2, 2), stride=(2, 2))),\n",
    "          ('dropout1', nn.Dropout(p=0.1)),\n",
    "          ('conv2', nn.Conv2d(64, 128, kernel_size=(3, 3), padding=(1, 1), bias=False)),\n",
    "          ('bn2', nn.BatchNorm2d(num_features=128)),\n",
    "          ('elu2', nn.ELU()),\n",
    "          ('pool2', nn.MaxPool2d(kernel_size=(3, 3), stride=(3, 3))),\n",
    "          ('dropout2', nn.Dropout(p=0.1)),\n",
    "          ('conv3', nn.Conv2d(128, 128, kernel_size=(3, 3), padding=(1, 1), bias=False)),\n",
    "          ('bn3', nn.BatchNorm2d(num_features=128)),\n",
    "          ('elu3', nn.ELU()),\n",
    "          ('pool3', nn.MaxPool2d(kernel_size=(4, 4), stride=(4, 4))),\n",
    "          ('dropout3', nn.Dropout(p=0.1)),\n",
    "          ('conv4', nn.Conv2d(128, 128, kernel_size=(3, 3), padding=(1, 1), bias=False)),\n",
    "          ('bn4', nn.BatchNorm2d(num_features=128)),\n",
    "          ('elu4', nn.ELU()),\n",
    "          ('pool4', nn.MaxPool2d(kernel_size=(4, 4), stride=(4, 4))),\n",
    "          ('dropout4', nn.Dropout(p=0.1)),\n",
    "        ]))\n",
    "        \n",
    "        self.lstm1 = nn.LSTM(128, 32)\n",
    "        self.lstm2 = nn.LSTM(32, 32)\n",
    "        self.dropout = nn.Dropout(p=0.3)\n",
    "        \n",
    "        self.fc = nn.Linear(32, 11)\n",
    "        self.sigmoid = nn.Sigmoid()\n",
    "\n",
    "    def forward(self,x):\n",
    "        x = self.freqpad(x)\n",
    "        x = self.bn0freq(x)\n",
    "\n",
    "        x = x.permute(0, 3, 1, 2)\n",
    "        x = self.cnn(x)\n",
    "        \n",
    "        x = x.squeeze()\n",
    "        x = x.permute(0, 2, 1)\n",
    "        \n",
    "        # rnn\n",
    "        x, (h_0, c_0) = self.lstm1(x)\n",
    "        x, (h_1, c_1) = self.lstm2(x, (h_0, c_0))\n",
    "        x = x[:,-1,:]\n",
    "        \n",
    "        x = self.dropout(x)\n",
    "        x = self.fc(x)\n",
    "        x = self.sigmoid(x)\n",
    "        \n",
    "        return x"
   ]
  },
  {
   "cell_type": "code",
   "execution_count": 8,
   "metadata": {
    "scrolled": false
   },
   "outputs": [
    {
     "name": "stdout",
     "output_type": "stream",
     "text": [
      "CRNN(\n",
      "  (freqpad): ZeroPad2d((0, 0, 37, 37))\n",
      "  (bn0freq): BatchNorm2d(96, eps=1e-05, momentum=0.1, affine=True, track_running_stats=True)\n",
      "  (cnn): Sequential(\n",
      "    (conv1): Conv2d(1, 64, kernel_size=(3, 3), stride=(1, 1), padding=(1, 1), bias=False)\n",
      "    (bn1): BatchNorm2d(64, eps=1e-05, momentum=0.1, affine=True, track_running_stats=True)\n",
      "    (elu1): ELU(alpha=1.0)\n",
      "    (pool1): MaxPool2d(kernel_size=(2, 2), stride=(2, 2), padding=0, dilation=1, ceil_mode=False)\n",
      "    (dropout1): Dropout(p=0.1, inplace=False)\n",
      "    (conv2): Conv2d(64, 128, kernel_size=(3, 3), stride=(1, 1), padding=(1, 1), bias=False)\n",
      "    (bn2): BatchNorm2d(128, eps=1e-05, momentum=0.1, affine=True, track_running_stats=True)\n",
      "    (elu2): ELU(alpha=1.0)\n",
      "    (pool2): MaxPool2d(kernel_size=(3, 3), stride=(3, 3), padding=0, dilation=1, ceil_mode=False)\n",
      "    (dropout2): Dropout(p=0.1, inplace=False)\n",
      "    (conv3): Conv2d(128, 128, kernel_size=(3, 3), stride=(1, 1), padding=(1, 1), bias=False)\n",
      "    (bn3): BatchNorm2d(128, eps=1e-05, momentum=0.1, affine=True, track_running_stats=True)\n",
      "    (elu3): ELU(alpha=1.0)\n",
      "    (pool3): MaxPool2d(kernel_size=(4, 4), stride=(4, 4), padding=0, dilation=1, ceil_mode=False)\n",
      "    (dropout3): Dropout(p=0.1, inplace=False)\n",
      "    (conv4): Conv2d(128, 128, kernel_size=(3, 3), stride=(1, 1), padding=(1, 1), bias=False)\n",
      "    (bn4): BatchNorm2d(128, eps=1e-05, momentum=0.1, affine=True, track_running_stats=True)\n",
      "    (elu4): ELU(alpha=1.0)\n",
      "    (pool4): MaxPool2d(kernel_size=(4, 4), stride=(4, 4), padding=0, dilation=1, ceil_mode=False)\n",
      "    (dropout4): Dropout(p=0.1, inplace=False)\n",
      "  )\n",
      "  (lstm1): LSTM(128, 32)\n",
      "  (lstm2): LSTM(32, 32)\n",
      "  (dropout): Dropout(p=0.3, inplace=False)\n",
      "  (fc): Linear(in_features=32, out_features=11, bias=True)\n",
      "  (sigmoid): Sigmoid()\n",
      ")\n",
      "torch.Size([2, 11])\n"
     ]
    }
   ],
   "source": [
    "x = torch.randn(2, 96, 1366, 1)\n",
    "model = CRNN()\n",
    "model.to('cpu')\n",
    "print(model)\n",
    "\n",
    "y = model(x)\n",
    "print(y.shape)"
   ]
  },
  {
   "cell_type": "code",
   "execution_count": null,
   "metadata": {},
   "outputs": [],
   "source": []
  }
 ],
 "metadata": {
  "kernelspec": {
   "display_name": "Python 3",
   "language": "python",
   "name": "python3"
  },
  "language_info": {
   "codemirror_mode": {
    "name": "ipython",
    "version": 3
   },
   "file_extension": ".py",
   "mimetype": "text/x-python",
   "name": "python",
   "nbconvert_exporter": "python",
   "pygments_lexer": "ipython3",
   "version": "3.8.3"
  }
 },
 "nbformat": 4,
 "nbformat_minor": 4
}
